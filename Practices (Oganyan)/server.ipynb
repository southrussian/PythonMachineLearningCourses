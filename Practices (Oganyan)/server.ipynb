{
 "cells": [
  {
   "cell_type": "code",
   "execution_count": null,
   "id": "d80fd7f5",
   "metadata": {},
   "outputs": [
    {
     "name": "stdout",
     "output_type": "stream",
     "text": [
      "Слушаю порт 33333\n",
      "Получено от 192.168.235.86:58826: тевирп\n",
      "Отправлено 192.168.235.86:58826: привет\n",
      "Слушаю порт 33333\n"
     ]
    }
   ],
   "source": [
    "import socket, string\n",
    "def do_something(x):\n",
    "    lst = x[::-1]\n",
    "    return lst\n",
    "HOST = \"192.168.235.160\" # localhost\n",
    "PORT = 33333\n",
    "srv = socket.socket(socket.AF_INET, socket.SOCK_STREAM)\n",
    "srv.bind((HOST, PORT))\n",
    "idx = 0\n",
    "while idx<5:\n",
    "    print ('Слушаю порт 33333')\n",
    "    srv.listen(1)\n",
    "    sock, addr = srv.accept()\n",
    "    while 1:\n",
    "        pal = sock.recv(1024)\n",
    "        if not pal:\n",
    "            break\n",
    "        else:\n",
    "            idx+=1\n",
    "        print ('Получено от %s:%s:' % addr, pal.decode('utf-8'))\n",
    "        lap = do_something(pal.decode('utf-8'))\n",
    "        print ('Отправлено %s:%s:' % addr, lap)\n",
    "        sock.send(lap.encode('utf-8'))\n",
    "    sock.close()\n",
    "print('Получено 5 сообщений') "
   ]
  },
  {
   "cell_type": "markdown",
   "id": "d3609a3d",
   "metadata": {},
   "source": []
  },
  {
   "cell_type": "code",
   "execution_count": null,
   "id": "cdff49fa",
   "metadata": {},
   "outputs": [],
   "source": []
  }
 ],
 "metadata": {
  "kernelspec": {
   "display_name": "Python 3 (ipykernel)",
   "language": "python",
   "name": "python3"
  },
  "language_info": {
   "codemirror_mode": {
    "name": "ipython",
    "version": 3
   },
   "file_extension": ".py",
   "mimetype": "text/x-python",
   "name": "python",
   "nbconvert_exporter": "python",
   "pygments_lexer": "ipython3",
   "version": "3.9.12"
  }
 },
 "nbformat": 4,
 "nbformat_minor": 5
}
